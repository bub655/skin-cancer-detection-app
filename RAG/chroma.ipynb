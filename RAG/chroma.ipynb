{
 "cells": [
  {
   "cell_type": "code",
   "execution_count": null,
   "metadata": {},
   "outputs": [],
   "source": [
    "%pip install semantic-router==0.0.37\n",
    "%pip install sentence-transformers\n",
    "%pip install chromadb\n",
    "%pip install pypdf\n",
    "%pip install langchain-community"
   ]
  },
  {
   "cell_type": "code",
   "execution_count": null,
   "metadata": {},
   "outputs": [],
   "source": [
    "from sentence_transformers import SentenceTransformer\n",
    "encoder = SentenceTransformer(\"sentence-transformers/all-MiniLM-L6-v2\")\n",
    "\n",
    "encoder.encode(\"Hello, World!\")"
   ]
  },
  {
   "cell_type": "code",
   "execution_count": 2,
   "metadata": {},
   "outputs": [],
   "source": [
    "import chromadb\n",
    "\n",
    "client = chromadb.PersistentClient(\n",
    "    path=\"/Users/anavbo/Desktop/Personal/skin-cancer-detection-app/RAG/chromadb\",\n",
    ")\n",
    "\n",
    "collection = client.create_collection(\"skin-cancer\")"
   ]
  },
  {
   "cell_type": "code",
   "execution_count": 13,
   "metadata": {},
   "outputs": [],
   "source": [
    "import chromadb.utils.embedding_functions as embedding_functions\n",
    "chroma_encode = embedding_functions.CohereEmbeddingFunction(\n",
    "    api_key=os.environ[\"COHERE_API_KEY\"], model_name=\"embed-english-v3.0\"\n",
    ")"
   ]
  },
  {
   "cell_type": "code",
   "execution_count": 25,
   "metadata": {},
   "outputs": [
    {
     "data": {
      "text/plain": [
       "Document(metadata={'source': '/Users/anavbo/Desktop/Personal/skin-cancer-detection-app/RAG/documents/Actinic keratosis - Diagnosis & treatment - Mayo Clinic.pdf', 'page': 0}, page_content=\"Actinic keratosis\\nDiagnosis\\nYour health care provider will likely be able to determine whether you have an actinic\\nkeratosis simply by looking at your skin. If there's any doubt, your health care\\nprovider may do other tests, such as a skin biopsy. During a skin biopsy, a small\\nsample of skin is taken for analysis in a lab. A biopsy can usually be done in a clinic\\nafter a numbing injection.\\nEven after treatment for actinic keratosis, your health care provider might suggest\\nthat you have your skin checked at least once a year for signs of skin cancer.\\nTreatment\\nAn actinic keratosis sometimes disappears on its own but might return after more\\nsun exposure. It's hard to tell which actinic keratoses will develop into skin cancer, so\\nthey're usually removed as a precaution.\\nMedicines\\nIf you have several actinic keratoses, your health care provider might prescribe a\\nmedicated cream or gel to remove them, such as ﬂuorouracil (Carac, Efudex others),\\nimiquimod (Aldara, Zyclara) or diclofenac. These products might cause inﬂamed\\nskin, scaling or a burning sensation for a few weeks.\\nSurgical and other procedures\\nMany methods are used to remove actinic keratosis, including:\\nFreezing (cryotherapy). Actinic keratoses can be removed by freezing them\\nwith liquid nitrogen. Your health care provider applies the substance to the\\na\\x00ected skin, which causes blistering or peeling. As your skin heals, the\\ndamaged cells slough o\\x00, allowing new skin to appear. Cryotherapy is the most\\ncommon treatment. It takes only a few minutes and can be done in your health\\n8/2/24, 3:21 PM Actinic keratosis - Diagnosis & treatment - Mayo Clinic\\nhttps://www.mayoclinic.org/diseases-conditions/actinic-keratosis/diagnosis-treatment/drc-20354975?p=1 1/4\")"
      ]
     },
     "execution_count": 25,
     "metadata": {},
     "output_type": "execute_result"
    }
   ],
   "source": []
  },
  {
   "cell_type": "code",
   "execution_count": 26,
   "metadata": {},
   "outputs": [],
   "source": [
    "document = \"\"\n",
    "for doc in documents:\n",
    "    document += doc.page_content + \"\\n\""
   ]
  },
  {
   "cell_type": "code",
   "execution_count": 63,
   "metadata": {},
   "outputs": [],
   "source": [
    "# semantic chunking\n",
    "from semantic_router.splitters import RollingWindowSplitter\n",
    "from semantic_router.utils.logger import logger\n",
    "import os\n",
    "from semantic_router.encoders import CohereEncoder\n",
    "\n",
    "os.environ[\"COHERE_API_KEY\"] = \"kUYLefL4SNo36iNh5tF2H1gGi5XfZyTbOBJNknt1\"\n",
    "logger.setLevel(\"WARNING\")\n",
    "encoder = CohereEncoder()\n",
    "splitter = RollingWindowSplitter(\n",
    "    encoder=encoder,\n",
    "    min_split_tokens=50,\n",
    "    max_split_tokens=400,\n",
    "    window_size=2,\n",
    "    enable_statistics=False,\n",
    ")"
   ]
  },
  {
   "cell_type": "code",
   "execution_count": 64,
   "metadata": {},
   "outputs": [],
   "source": [
    "from pypdf import PdfReader\n",
    "import os\n",
    "import math \n",
    "import uuid\n",
    "\n",
    "pdf_paths = os.listdir(path)\n",
    "\n",
    "chunks = []\n",
    "metadatas = []\n",
    "ids = []\n",
    "for doc_path in pdf_paths:\n",
    "    documents = PdfReader(f\"{path}/{doc_path}\")\n",
    "    document = \"\"\n",
    "    for doc in documents.pages:\n",
    "        document += doc.extract_text() + \"\\n\"\n",
    "\n",
    "    splits = splitter([document])\n",
    "    for i in range(len(splits)):\n",
    "        chunk = \" \".join(splits[i].docs)\n",
    "        if i == 0:\n",
    "            metadata = {\n",
    "                \"source\": doc_path,\n",
    "                \"pre_chunk\": None,\n",
    "                \"post_chunk\": splits[i+1].docs[-1]\n",
    "            }\n",
    "        elif i == len(splits) - 1:\n",
    "            metadata = {\n",
    "                \"source\": doc_path,\n",
    "                \"pre_chunk\": splits[i-1].docs[-1],\n",
    "                \"post_chunk\": None\n",
    "            }\n",
    "        else:\n",
    "            metadata = {\n",
    "                \"source\": doc_path,\n",
    "                \"pre_chunk\": splits[i-1].docs[-1],\n",
    "                \"post_chunk\":  splits[i+1].docs[0]\n",
    "            }\n",
    "        chunks.append(chunk)\n",
    "        metadatas.append(metadata)\n",
    "        ids.append(str(uuid.uuid4().hex))"
   ]
  },
  {
   "cell_type": "code",
   "execution_count": 62,
   "metadata": {},
   "outputs": [
    {
     "data": {
      "text/plain": [
       "750"
      ]
     },
     "execution_count": 62,
     "metadata": {},
     "output_type": "execute_result"
    }
   ],
   "source": [
    "len(chunks)"
   ]
  }
 ],
 "metadata": {
  "kernelspec": {
   "display_name": ".venv",
   "language": "python",
   "name": "python3"
  },
  "language_info": {
   "codemirror_mode": {
    "name": "ipython",
    "version": 3
   },
   "file_extension": ".py",
   "mimetype": "text/x-python",
   "name": "python",
   "nbconvert_exporter": "python",
   "pygments_lexer": "ipython3",
   "version": "3.12.4"
  }
 },
 "nbformat": 4,
 "nbformat_minor": 2
}
