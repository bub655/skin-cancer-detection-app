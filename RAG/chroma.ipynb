{
 "cells": [
  {
   "cell_type": "code",
   "execution_count": null,
   "metadata": {},
   "outputs": [],
   "source": [
    "%pip install semantic-router==0.0.37\n",
    "%pip install sentence-transformers\n",
    "%pip install chromadb\n",
    "%pip install pypdf\n",
    "%pip install langchain-community"
   ]
  },
  {
   "cell_type": "code",
   "execution_count": 2,
   "metadata": {},
   "outputs": [],
   "source": [
    "import os\n",
    "os.environ[\"COHERE_API_KEY\"] = \"kUYLefL4SNo36iNh5tF2H1gGi5XfZyTbOBJNknt1\""
   ]
  },
  {
   "cell_type": "code",
   "execution_count": 3,
   "metadata": {},
   "outputs": [
    {
     "name": "stderr",
     "output_type": "stream",
     "text": [
      "/Users/anavbo/Desktop/Personal/skin-cancer-detection-app/.venv/lib/python3.12/site-packages/sentence_transformers/cross_encoder/CrossEncoder.py:11: TqdmWarning: IProgress not found. Please update jupyter and ipywidgets. See https://ipywidgets.readthedocs.io/en/stable/user_install.html\n",
      "  from tqdm.autonotebook import tqdm, trange\n"
     ]
    },
    {
     "data": {
      "text/plain": [
       "array([-3.81771624e-02,  3.29111032e-02, -5.45941340e-03,  1.43699506e-02,\n",
       "       -4.02910337e-02, -1.16532490e-01,  3.16876657e-02,  1.91175914e-03,\n",
       "       -4.26223204e-02,  2.91681141e-02,  4.24266793e-02,  3.20417359e-02,\n",
       "        2.98447311e-02,  1.09802913e-02, -5.39396070e-02, -5.02772778e-02,\n",
       "       -2.35078298e-02,  1.07793808e-02, -1.37707949e-01,  4.11499850e-03,\n",
       "        2.93330923e-02,  6.68411404e-02, -1.53893977e-02,  4.84376550e-02,\n",
       "       -8.81497487e-02, -1.27268638e-02,  4.14090492e-02,  4.08315063e-02,\n",
       "       -5.01559079e-02, -5.81250526e-02,  4.88015115e-02,  6.88901171e-02,\n",
       "        5.87469079e-02,  8.73098895e-03, -1.59182511e-02,  8.51419568e-02,\n",
       "       -7.81474337e-02, -7.75167868e-02,  2.07238067e-02,  1.61942486e-02,\n",
       "        3.25106122e-02, -5.34888543e-02, -6.22287765e-02, -2.43146550e-02,\n",
       "        7.41279405e-03,  2.39777453e-02,  6.36094343e-03,  5.11451177e-02,\n",
       "        7.27666914e-02,  3.46496850e-02, -5.47711216e-02, -5.93284853e-02,\n",
       "       -7.16693699e-03,  2.01377310e-02,  3.58463489e-02,  5.59090031e-03,\n",
       "        1.07735675e-02, -5.27637228e-02,  1.01473685e-02, -8.73165857e-03,\n",
       "       -6.28155246e-02,  3.84666547e-02, -1.39427343e-02,  7.35259131e-02,\n",
       "        9.00083035e-02, -7.99807385e-02, -1.63944867e-02,  4.47223634e-02,\n",
       "       -6.88313022e-02, -3.30075882e-02, -1.53512228e-02,  1.12996688e-02,\n",
       "        3.64983492e-02,  6.62666932e-02, -5.44066839e-02,  8.79517943e-03,\n",
       "        1.20745786e-02, -3.81696299e-02,  6.86013792e-03,  5.11235930e-02,\n",
       "        7.74175897e-02, -1.22962609e-01,  1.63531266e-02,  4.95427325e-02,\n",
       "        3.17454115e-02, -3.96687984e-02,  1.70920976e-03,  9.66942590e-03,\n",
       "       -3.25299129e-02, -3.39295119e-02, -1.33264631e-01,  7.39706540e-03,\n",
       "       -1.02342656e-02,  3.85915041e-02, -9.33098570e-02, -4.16540280e-02,\n",
       "        6.98687360e-02, -2.62885895e-02, -1.49698257e-01,  1.34353116e-01,\n",
       "        3.75027508e-02,  5.28785437e-02,  4.49671634e-02,  1.85995027e-02,\n",
       "        5.44251874e-02,  1.72716621e-02, -3.25183161e-02,  4.60802056e-02,\n",
       "       -4.67377193e-02, -3.06096673e-02, -1.82268675e-02, -4.86957692e-02,\n",
       "        3.28579918e-02, -3.92094906e-03,  5.01056351e-02, -5.82454577e-02,\n",
       "       -1.00809494e-02,  1.05502792e-02, -4.01560850e-02, -1.55401509e-03,\n",
       "        6.08768202e-02, -4.55005802e-02,  4.92598824e-02,  2.61243228e-02,\n",
       "        1.98505707e-02, -1.58548844e-03,  5.95724359e-02, -6.51835862e-33,\n",
       "        6.35851696e-02,  3.06810928e-03,  2.88844611e-02,  1.73389703e-01,\n",
       "        2.99479673e-03,  2.76896954e-02, -9.51482430e-02, -3.11607793e-02,\n",
       "        2.66698766e-02, -1.08713135e-02,  2.39152145e-02,  2.38443874e-02,\n",
       "       -3.12165134e-02,  4.94056568e-02, -2.49788035e-02,  1.01824246e-01,\n",
       "       -7.92782903e-02, -3.24870925e-03,  4.30462770e-02,  9.49330330e-02,\n",
       "       -6.65736347e-02,  6.32922724e-03,  2.22788751e-02,  6.99767917e-02,\n",
       "       -7.53041310e-03, -1.74519850e-03,  2.70446893e-02, -7.53242821e-02,\n",
       "        1.14057764e-01,  8.55989195e-03, -2.36879233e-02, -4.69804965e-02,\n",
       "        1.43719036e-02,  1.98206268e-02, -4.58437717e-03,  1.37420488e-03,\n",
       "       -3.43193971e-02, -5.41234091e-02, -9.41645950e-02, -2.89598145e-02,\n",
       "       -1.87951420e-02,  4.58199233e-02,  4.75890227e-02, -3.19489907e-03,\n",
       "       -3.32171842e-02, -1.33891208e-02,  5.10315895e-02,  3.10757533e-02,\n",
       "        1.53144719e-02,  5.42222820e-02, -8.50554034e-02,  1.33045074e-02,\n",
       "       -4.78141382e-02,  7.10234120e-02, -1.31599661e-02, -2.42903247e-03,\n",
       "        5.02184480e-02, -4.16093990e-02, -1.41695188e-02,  3.23882066e-02,\n",
       "        5.37519716e-03,  9.12262276e-02,  4.55122348e-03, -1.83422361e-02,\n",
       "       -1.52030159e-02, -4.63723205e-02,  3.86707745e-02,  1.46849798e-02,\n",
       "        5.20024970e-02,  1.90893852e-03, -1.49174351e-02,  2.70289779e-02,\n",
       "        3.12726200e-02,  2.36842241e-02, -4.80396627e-03,  3.61618400e-02,\n",
       "        6.67887405e-02, -1.89078890e-03,  2.13743374e-02, -5.76926693e-02,\n",
       "        1.91577375e-02,  3.15591060e-02, -1.84470527e-02, -4.07710522e-02,\n",
       "        1.03958398e-01,  1.19074900e-02, -1.49294659e-02, -1.05078451e-01,\n",
       "       -1.23710064e-02, -3.03949928e-04, -9.50324982e-02,  5.83013482e-02,\n",
       "        4.26109619e-02, -2.50124149e-02, -9.46091563e-02,  4.00341527e-33,\n",
       "        1.32172957e-01,  5.45830978e-03, -3.31512913e-02, -9.10781324e-02,\n",
       "       -3.15739177e-02, -3.38864066e-02, -7.19889700e-02,  1.25911936e-01,\n",
       "       -8.33933502e-02,  5.27782030e-02,  1.12827308e-03,  2.19778121e-02,\n",
       "        1.04063623e-01,  1.29887536e-02,  4.08715978e-02,  1.87306833e-02,\n",
       "        1.14286311e-01,  2.48653349e-02,  1.46103809e-02,  6.18680194e-03,\n",
       "       -1.13734556e-02, -3.57009768e-02, -3.80397439e-02,  1.11748492e-02,\n",
       "       -5.12898266e-02,  7.88672175e-03,  6.72205091e-02,  3.40404804e-03,\n",
       "       -9.28479284e-02,  3.70484963e-02, -2.22387891e-02,  4.00781594e-02,\n",
       "       -3.07131913e-02, -1.14213992e-02, -1.44187026e-02,  2.50452571e-02,\n",
       "       -9.75571722e-02, -3.53958309e-02, -3.75209972e-02, -1.00684110e-02,\n",
       "       -6.38862178e-02,  2.54725479e-02,  2.06223745e-02,  3.76771428e-02,\n",
       "       -1.04281679e-01, -2.82806475e-02, -5.21058254e-02,  1.28588509e-02,\n",
       "       -5.14237508e-02, -2.90379953e-02, -9.63978544e-02, -4.23605964e-02,\n",
       "        6.70596957e-02, -3.07706874e-02, -1.03944438e-02,  2.74102483e-02,\n",
       "       -2.80104037e-02,  1.02891950e-02,  4.30914462e-02,  2.22976785e-02,\n",
       "        8.01137183e-03,  5.61470687e-02,  4.08860222e-02,  9.28760543e-02,\n",
       "        1.65849421e-02, -5.38247824e-02,  5.74147038e-04,  5.07842600e-02,\n",
       "        4.24875021e-02, -2.92069074e-02,  9.23891924e-03, -1.06736161e-02,\n",
       "       -3.71527299e-02,  2.36697728e-03, -3.03456672e-02,  7.45052695e-02,\n",
       "        2.62969430e-03, -1.76091287e-02,  2.82069994e-03,  3.83742936e-02,\n",
       "        7.22764991e-03,  4.56757359e-02,  4.00427841e-02,  1.42476549e-02,\n",
       "       -1.43160671e-02,  5.86555377e-02,  3.63530703e-02,  5.52346222e-02,\n",
       "       -1.99883692e-02, -8.04462060e-02, -3.02477274e-02, -1.49129648e-02,\n",
       "        2.22688187e-02,  1.19625675e-02, -6.91014230e-02, -1.88070981e-08,\n",
       "       -7.85505623e-02,  4.67108302e-02, -2.40804683e-02,  6.34382740e-02,\n",
       "        2.40138900e-02,  1.43954786e-03, -9.08353701e-02, -6.68759122e-02,\n",
       "       -8.00782368e-02,  5.66644268e-03,  5.36583923e-02,  1.04866259e-01,\n",
       "       -6.68804646e-02,  1.54984770e-02,  6.71185181e-02,  7.08868876e-02,\n",
       "       -3.19899581e-02,  2.08834782e-02, -2.19384152e-02, -7.26890378e-03,\n",
       "       -1.08125815e-02,  4.08996409e-03,  3.31554860e-02, -7.89784566e-02,\n",
       "        3.87152284e-02, -7.53202513e-02, -1.58048552e-02,  5.96068706e-03,\n",
       "        5.19897323e-03, -6.14303090e-02,  4.20057923e-02,  9.53628048e-02,\n",
       "       -4.32334654e-02,  1.43934349e-02, -1.06087416e-01, -2.79941466e-02,\n",
       "        1.09661883e-02,  6.95306733e-02,  6.69809952e-02, -7.47754276e-02,\n",
       "       -7.85745680e-02,  4.27465327e-02, -3.46037596e-02, -1.06056288e-01,\n",
       "       -3.56335081e-02,  5.15012294e-02,  6.86736107e-02, -4.99744490e-02,\n",
       "        1.52898440e-02, -6.45573214e-02, -7.59339556e-02,  2.61542685e-02,\n",
       "        7.42641911e-02, -1.24497376e-02,  1.33297861e-01,  7.47663304e-02,\n",
       "        5.12522198e-02,  2.09902916e-02, -2.68759914e-02,  8.89062434e-02,\n",
       "        4.00210582e-02, -4.08902839e-02,  3.18714418e-02,  1.81631893e-02],\n",
       "      dtype=float32)"
      ]
     },
     "execution_count": 3,
     "metadata": {},
     "output_type": "execute_result"
    }
   ],
   "source": [
    "from sentence_transformers import SentenceTransformer\n",
    "encoder = SentenceTransformer(\"sentence-transformers/all-MiniLM-L6-v2\")\n",
    "\n",
    "encoder.encode(\"Hello, World!\")"
   ]
  },
  {
   "cell_type": "code",
   "execution_count": 4,
   "metadata": {},
   "outputs": [],
   "source": [
    "import chromadb\n",
    "import os\n",
    "client = chromadb.PersistentClient(\n",
    "    path=\"/Users/anavbo/Desktop/Personal/skin-cancer-detection-app/RAG/chromadb\",\n",
    ")\n",
    "collection = client.get_or_create_collection(name=\"skin-cancer\")"
   ]
  },
  {
   "cell_type": "code",
   "execution_count": 5,
   "metadata": {},
   "outputs": [],
   "source": [
    "import chromadb.utils.embedding_functions as embedding_functions\n",
    "chroma_encode = embedding_functions.CohereEmbeddingFunction(\n",
    "    api_key=os.environ[\"COHERE_API_KEY\"], model_name=\"embed-english-v3.0\"\n",
    ")"
   ]
  },
  {
   "cell_type": "code",
   "execution_count": 6,
   "metadata": {},
   "outputs": [],
   "source": [
    "# semantic chunking\n",
    "from semantic_router.splitters import RollingWindowSplitter\n",
    "from semantic_router.utils.logger import logger\n",
    "from semantic_router.encoders import CohereEncoder\n",
    "\n",
    "logger.setLevel(\"WARNING\")\n",
    "encoder = CohereEncoder()\n",
    "splitter = RollingWindowSplitter(\n",
    "    encoder=encoder,\n",
    "    min_split_tokens=50,\n",
    "    max_split_tokens=400,\n",
    "    window_size=2,\n",
    "    enable_statistics=False,\n",
    ")"
   ]
  },
  {
   "cell_type": "code",
   "execution_count": 7,
   "metadata": {},
   "outputs": [],
   "source": [
    "from pypdf import PdfReader\n",
    "import os\n",
    "import uuid\n",
    "path=\"/Users/anavbo/Desktop/Personal/skin-cancer-detection-app/RAG/documents\"\n",
    "pdf_paths = os.listdir(path)\n",
    "\n",
    "chunks = []\n",
    "metadatas = []\n",
    "ids = []\n",
    "for doc_path in pdf_paths:\n",
    "    documents = PdfReader(f\"{path}/{doc_path}\")\n",
    "    document = \"\"\n",
    "    for doc in documents.pages:\n",
    "        document += doc.extract_text() + \"\\n\"\n",
    "\n",
    "    splits = splitter([document])\n",
    "    for i in range(len(splits)):\n",
    "        chunk = \" \".join(splits[i].docs)\n",
    "        try:\n",
    "            pre_chunk = \" \".join(splits[i - 1].docs)\n",
    "        except:\n",
    "            pre_chunk = \"\"\n",
    "        try:\n",
    "            post_chunk = \" \".join(splits[i + 1].docs)\n",
    "        except:\n",
    "            post_chunk = \"\"\n",
    "        \n",
    "        metadata = {\n",
    "            \"source\": doc_path,\n",
    "            \"pre_chunk\": pre_chunk,\n",
    "            \"chunk\": chunk,\n",
    "            \"post_chunk\": post_chunk\n",
    "        }\n",
    "        chunks.append(chunk)\n",
    "        metadatas.append(metadata)\n",
    "        ids.append(str(uuid.uuid4().hex))"
   ]
  },
  {
   "cell_type": "code",
   "execution_count": 12,
   "metadata": {},
   "outputs": [
    {
     "data": {
      "text/plain": [
       "'a66975655a1a4a9898b93e5904806ace'"
      ]
     },
     "execution_count": 12,
     "metadata": {},
     "output_type": "execute_result"
    }
   ],
   "source": [
    "ids[0]"
   ]
  },
  {
   "cell_type": "code",
   "execution_count": 13,
   "metadata": {},
   "outputs": [
    {
     "name": "stderr",
     "output_type": "stream",
     "text": [
      "Add of existing embedding ID: a66975655a1a4a9898b93e5904806ace\n",
      "Insert of existing embedding ID: a66975655a1a4a9898b93e5904806ace\n"
     ]
    }
   ],
   "source": [
    "collection.add(\n",
    "    documents = chunks,\n",
    "    ids = ids,\n",
    "    metadatas = metadatas,\n",
    ")"
   ]
  },
  {
   "cell_type": "code",
   "execution_count": null,
   "metadata": {},
   "outputs": [],
   "source": [
    "import chromadb\n",
    "\n",
    "query = input(\"What is your query:\\n\")\n",
    "\n",
    "\n",
    "client = chromadb.PersistentClient(\n",
    "    path=\"/Users/anavbo/Desktop/Personal/skin-cancer-detection-app/RAG/chromadb\"\n",
    ")\n",
    "collection = client.get_collection(\"skin-cancer\")\n",
    "\n",
    "print(collection.query(query_texts=query, n_results=5)[\"data\"])"
   ]
  }
 ],
 "metadata": {
  "kernelspec": {
   "display_name": ".venv",
   "language": "python",
   "name": "python3"
  },
  "language_info": {
   "codemirror_mode": {
    "name": "ipython",
    "version": 3
   },
   "file_extension": ".py",
   "mimetype": "text/x-python",
   "name": "python",
   "nbconvert_exporter": "python",
   "pygments_lexer": "ipython3",
   "version": "3.12.4"
  }
 },
 "nbformat": 4,
 "nbformat_minor": 2
}
