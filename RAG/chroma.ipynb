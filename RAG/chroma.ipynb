{
 "cells": [
  {
   "cell_type": "code",
   "execution_count": 24,
   "metadata": {},
   "outputs": [
    {
     "name": "stderr",
     "output_type": "stream",
     "text": [
      "Python(2053) MallocStackLogging: can't turn off malloc stack logging because it was not enabled.\n",
      "huggingface/tokenizers: The current process just got forked, after parallelism has already been used. Disabling parallelism to avoid deadlocks...\n",
      "To disable this warning, you can either:\n",
      "\t- Avoid using `tokenizers` before the fork if possible\n",
      "\t- Explicitly set the environment variable TOKENIZERS_PARALLELISM=(true | false)\n"
     ]
    },
    {
     "name": "stdout",
     "output_type": "stream",
     "text": [
      "Requirement already satisfied: semantic-router==0.0.37 in /Users/anavbo/Desktop/Personal/skin-cancer-detection-app/.venv/lib/python3.12/site-packages (0.0.37)\n",
      "Requirement already satisfied: cohere<5.0,>=4.32 in /Users/anavbo/Desktop/Personal/skin-cancer-detection-app/.venv/lib/python3.12/site-packages (from semantic-router==0.0.37) (4.57)\n",
      "Requirement already satisfied: colorama<0.5.0,>=0.4.6 in /Users/anavbo/Desktop/Personal/skin-cancer-detection-app/.venv/lib/python3.12/site-packages (from semantic-router==0.0.37) (0.4.6)\n",
      "Requirement already satisfied: colorlog<7.0.0,>=6.8.0 in /Users/anavbo/Desktop/Personal/skin-cancer-detection-app/.venv/lib/python3.12/site-packages (from semantic-router==0.0.37) (6.8.2)\n",
      "Requirement already satisfied: numpy<2.0.0,>=1.25.2 in /Users/anavbo/Desktop/Personal/skin-cancer-detection-app/.venv/lib/python3.12/site-packages (from semantic-router==0.0.37) (1.26.4)\n",
      "Requirement already satisfied: openai<2.0.0,>=1.10.0 in /Users/anavbo/Desktop/Personal/skin-cancer-detection-app/.venv/lib/python3.12/site-packages (from semantic-router==0.0.37) (1.38.0)\n",
      "Requirement already satisfied: pydantic<3.0.0,>=2.5.3 in /Users/anavbo/Desktop/Personal/skin-cancer-detection-app/.venv/lib/python3.12/site-packages (from semantic-router==0.0.37) (2.8.2)\n",
      "Requirement already satisfied: pyyaml<7.0.0,>=6.0.1 in /Users/anavbo/Desktop/Personal/skin-cancer-detection-app/.venv/lib/python3.12/site-packages (from semantic-router==0.0.37) (6.0.1)\n",
      "Requirement already satisfied: regex<2024.0.0,>=2023.12.25 in /Users/anavbo/Desktop/Personal/skin-cancer-detection-app/.venv/lib/python3.12/site-packages (from semantic-router==0.0.37) (2023.12.25)\n",
      "Requirement already satisfied: requests-mock<2.0.0,>=1.12.1 in /Users/anavbo/Desktop/Personal/skin-cancer-detection-app/.venv/lib/python3.12/site-packages (from semantic-router==0.0.37) (1.12.1)\n",
      "Requirement already satisfied: tiktoken<0.7.0,>=0.6.0 in /Users/anavbo/Desktop/Personal/skin-cancer-detection-app/.venv/lib/python3.12/site-packages (from semantic-router==0.0.37) (0.6.0)\n",
      "Requirement already satisfied: aiohttp<4.0,>=3.0 in /Users/anavbo/Desktop/Personal/skin-cancer-detection-app/.venv/lib/python3.12/site-packages (from cohere<5.0,>=4.32->semantic-router==0.0.37) (3.10.0)\n",
      "Requirement already satisfied: backoff<3.0,>=2.0 in /Users/anavbo/Desktop/Personal/skin-cancer-detection-app/.venv/lib/python3.12/site-packages (from cohere<5.0,>=4.32->semantic-router==0.0.37) (2.2.1)\n",
      "Requirement already satisfied: fastavro<2.0,>=1.8 in /Users/anavbo/Desktop/Personal/skin-cancer-detection-app/.venv/lib/python3.12/site-packages (from cohere<5.0,>=4.32->semantic-router==0.0.37) (1.9.5)\n",
      "Requirement already satisfied: importlib_metadata<7.0,>=6.0 in /Users/anavbo/Desktop/Personal/skin-cancer-detection-app/.venv/lib/python3.12/site-packages (from cohere<5.0,>=4.32->semantic-router==0.0.37) (6.11.0)\n",
      "Requirement already satisfied: requests<3.0.0,>=2.25.0 in /Users/anavbo/Desktop/Personal/skin-cancer-detection-app/.venv/lib/python3.12/site-packages (from cohere<5.0,>=4.32->semantic-router==0.0.37) (2.32.3)\n",
      "Requirement already satisfied: urllib3<3,>=1.26 in /Users/anavbo/Desktop/Personal/skin-cancer-detection-app/.venv/lib/python3.12/site-packages (from cohere<5.0,>=4.32->semantic-router==0.0.37) (2.2.2)\n",
      "Requirement already satisfied: anyio<5,>=3.5.0 in /Users/anavbo/Desktop/Personal/skin-cancer-detection-app/.venv/lib/python3.12/site-packages (from openai<2.0.0,>=1.10.0->semantic-router==0.0.37) (4.4.0)\n",
      "Requirement already satisfied: distro<2,>=1.7.0 in /Users/anavbo/Desktop/Personal/skin-cancer-detection-app/.venv/lib/python3.12/site-packages (from openai<2.0.0,>=1.10.0->semantic-router==0.0.37) (1.9.0)\n",
      "Requirement already satisfied: httpx<1,>=0.23.0 in /Users/anavbo/Desktop/Personal/skin-cancer-detection-app/.venv/lib/python3.12/site-packages (from openai<2.0.0,>=1.10.0->semantic-router==0.0.37) (0.27.0)\n",
      "Requirement already satisfied: sniffio in /Users/anavbo/Desktop/Personal/skin-cancer-detection-app/.venv/lib/python3.12/site-packages (from openai<2.0.0,>=1.10.0->semantic-router==0.0.37) (1.3.1)\n",
      "Requirement already satisfied: tqdm>4 in /Users/anavbo/Desktop/Personal/skin-cancer-detection-app/.venv/lib/python3.12/site-packages (from openai<2.0.0,>=1.10.0->semantic-router==0.0.37) (4.66.4)\n",
      "Requirement already satisfied: typing-extensions<5,>=4.7 in /Users/anavbo/Desktop/Personal/skin-cancer-detection-app/.venv/lib/python3.12/site-packages (from openai<2.0.0,>=1.10.0->semantic-router==0.0.37) (4.12.2)\n",
      "Requirement already satisfied: annotated-types>=0.4.0 in /Users/anavbo/Desktop/Personal/skin-cancer-detection-app/.venv/lib/python3.12/site-packages (from pydantic<3.0.0,>=2.5.3->semantic-router==0.0.37) (0.7.0)\n",
      "Requirement already satisfied: pydantic-core==2.20.1 in /Users/anavbo/Desktop/Personal/skin-cancer-detection-app/.venv/lib/python3.12/site-packages (from pydantic<3.0.0,>=2.5.3->semantic-router==0.0.37) (2.20.1)\n",
      "Requirement already satisfied: aiohappyeyeballs>=2.3.0 in /Users/anavbo/Desktop/Personal/skin-cancer-detection-app/.venv/lib/python3.12/site-packages (from aiohttp<4.0,>=3.0->cohere<5.0,>=4.32->semantic-router==0.0.37) (2.3.4)\n",
      "Requirement already satisfied: aiosignal>=1.1.2 in /Users/anavbo/Desktop/Personal/skin-cancer-detection-app/.venv/lib/python3.12/site-packages (from aiohttp<4.0,>=3.0->cohere<5.0,>=4.32->semantic-router==0.0.37) (1.3.1)\n",
      "Requirement already satisfied: attrs>=17.3.0 in /Users/anavbo/Desktop/Personal/skin-cancer-detection-app/.venv/lib/python3.12/site-packages (from aiohttp<4.0,>=3.0->cohere<5.0,>=4.32->semantic-router==0.0.37) (23.2.0)\n",
      "Requirement already satisfied: frozenlist>=1.1.1 in /Users/anavbo/Desktop/Personal/skin-cancer-detection-app/.venv/lib/python3.12/site-packages (from aiohttp<4.0,>=3.0->cohere<5.0,>=4.32->semantic-router==0.0.37) (1.4.1)\n",
      "Requirement already satisfied: multidict<7.0,>=4.5 in /Users/anavbo/Desktop/Personal/skin-cancer-detection-app/.venv/lib/python3.12/site-packages (from aiohttp<4.0,>=3.0->cohere<5.0,>=4.32->semantic-router==0.0.37) (6.0.5)\n",
      "Requirement already satisfied: yarl<2.0,>=1.0 in /Users/anavbo/Desktop/Personal/skin-cancer-detection-app/.venv/lib/python3.12/site-packages (from aiohttp<4.0,>=3.0->cohere<5.0,>=4.32->semantic-router==0.0.37) (1.9.4)\n",
      "Requirement already satisfied: idna>=2.8 in /Users/anavbo/Desktop/Personal/skin-cancer-detection-app/.venv/lib/python3.12/site-packages (from anyio<5,>=3.5.0->openai<2.0.0,>=1.10.0->semantic-router==0.0.37) (3.7)\n",
      "Requirement already satisfied: certifi in /Users/anavbo/Desktop/Personal/skin-cancer-detection-app/.venv/lib/python3.12/site-packages (from httpx<1,>=0.23.0->openai<2.0.0,>=1.10.0->semantic-router==0.0.37) (2024.7.4)\n",
      "Requirement already satisfied: httpcore==1.* in /Users/anavbo/Desktop/Personal/skin-cancer-detection-app/.venv/lib/python3.12/site-packages (from httpx<1,>=0.23.0->openai<2.0.0,>=1.10.0->semantic-router==0.0.37) (1.0.5)\n",
      "Requirement already satisfied: h11<0.15,>=0.13 in /Users/anavbo/Desktop/Personal/skin-cancer-detection-app/.venv/lib/python3.12/site-packages (from httpcore==1.*->httpx<1,>=0.23.0->openai<2.0.0,>=1.10.0->semantic-router==0.0.37) (0.14.0)\n",
      "Requirement already satisfied: zipp>=0.5 in /Users/anavbo/Desktop/Personal/skin-cancer-detection-app/.venv/lib/python3.12/site-packages (from importlib_metadata<7.0,>=6.0->cohere<5.0,>=4.32->semantic-router==0.0.37) (3.19.2)\n",
      "Requirement already satisfied: charset-normalizer<4,>=2 in /Users/anavbo/Desktop/Personal/skin-cancer-detection-app/.venv/lib/python3.12/site-packages (from requests<3.0.0,>=2.25.0->cohere<5.0,>=4.32->semantic-router==0.0.37) (3.3.2)\n",
      "Note: you may need to restart the kernel to use updated packages.\n"
     ]
    },
    {
     "name": "stderr",
     "output_type": "stream",
     "text": [
      "Python(2055) MallocStackLogging: can't turn off malloc stack logging because it was not enabled.\n",
      "huggingface/tokenizers: The current process just got forked, after parallelism has already been used. Disabling parallelism to avoid deadlocks...\n",
      "To disable this warning, you can either:\n",
      "\t- Avoid using `tokenizers` before the fork if possible\n",
      "\t- Explicitly set the environment variable TOKENIZERS_PARALLELISM=(true | false)\n"
     ]
    },
    {
     "name": "stdout",
     "output_type": "stream",
     "text": [
      "Requirement already satisfied: chromadb in /Users/anavbo/Desktop/Personal/skin-cancer-detection-app/.venv/lib/python3.12/site-packages (0.5.5)\n",
      "Requirement already satisfied: build>=1.0.3 in /Users/anavbo/Desktop/Personal/skin-cancer-detection-app/.venv/lib/python3.12/site-packages (from chromadb) (1.2.1)\n",
      "Requirement already satisfied: pydantic>=1.9 in /Users/anavbo/Desktop/Personal/skin-cancer-detection-app/.venv/lib/python3.12/site-packages (from chromadb) (2.8.2)\n",
      "Requirement already satisfied: chroma-hnswlib==0.7.6 in /Users/anavbo/Desktop/Personal/skin-cancer-detection-app/.venv/lib/python3.12/site-packages (from chromadb) (0.7.6)\n",
      "Requirement already satisfied: fastapi>=0.95.2 in /Users/anavbo/Desktop/Personal/skin-cancer-detection-app/.venv/lib/python3.12/site-packages (from chromadb) (0.112.0)\n",
      "Requirement already satisfied: uvicorn>=0.18.3 in /Users/anavbo/Desktop/Personal/skin-cancer-detection-app/.venv/lib/python3.12/site-packages (from uvicorn[standard]>=0.18.3->chromadb) (0.30.5)\n",
      "Requirement already satisfied: numpy<2.0.0,>=1.22.5 in /Users/anavbo/Desktop/Personal/skin-cancer-detection-app/.venv/lib/python3.12/site-packages (from chromadb) (1.26.4)\n",
      "Requirement already satisfied: posthog>=2.4.0 in /Users/anavbo/Desktop/Personal/skin-cancer-detection-app/.venv/lib/python3.12/site-packages (from chromadb) (3.5.0)\n",
      "Requirement already satisfied: typing-extensions>=4.5.0 in /Users/anavbo/Desktop/Personal/skin-cancer-detection-app/.venv/lib/python3.12/site-packages (from chromadb) (4.12.2)\n",
      "Requirement already satisfied: onnxruntime>=1.14.1 in /Users/anavbo/Desktop/Personal/skin-cancer-detection-app/.venv/lib/python3.12/site-packages (from chromadb) (1.18.1)\n",
      "Requirement already satisfied: opentelemetry-api>=1.2.0 in /Users/anavbo/Desktop/Personal/skin-cancer-detection-app/.venv/lib/python3.12/site-packages (from chromadb) (1.26.0)\n",
      "Requirement already satisfied: opentelemetry-exporter-otlp-proto-grpc>=1.2.0 in /Users/anavbo/Desktop/Personal/skin-cancer-detection-app/.venv/lib/python3.12/site-packages (from chromadb) (1.26.0)\n",
      "Requirement already satisfied: opentelemetry-instrumentation-fastapi>=0.41b0 in /Users/anavbo/Desktop/Personal/skin-cancer-detection-app/.venv/lib/python3.12/site-packages (from chromadb) (0.47b0)\n",
      "Requirement already satisfied: opentelemetry-sdk>=1.2.0 in /Users/anavbo/Desktop/Personal/skin-cancer-detection-app/.venv/lib/python3.12/site-packages (from chromadb) (1.26.0)\n",
      "Requirement already satisfied: tokenizers>=0.13.2 in /Users/anavbo/Desktop/Personal/skin-cancer-detection-app/.venv/lib/python3.12/site-packages (from chromadb) (0.19.1)\n",
      "Requirement already satisfied: pypika>=0.48.9 in /Users/anavbo/Desktop/Personal/skin-cancer-detection-app/.venv/lib/python3.12/site-packages (from chromadb) (0.48.9)\n",
      "Requirement already satisfied: tqdm>=4.65.0 in /Users/anavbo/Desktop/Personal/skin-cancer-detection-app/.venv/lib/python3.12/site-packages (from chromadb) (4.66.4)\n",
      "Requirement already satisfied: overrides>=7.3.1 in /Users/anavbo/Desktop/Personal/skin-cancer-detection-app/.venv/lib/python3.12/site-packages (from chromadb) (7.7.0)\n",
      "Requirement already satisfied: importlib-resources in /Users/anavbo/Desktop/Personal/skin-cancer-detection-app/.venv/lib/python3.12/site-packages (from chromadb) (6.4.0)\n",
      "Requirement already satisfied: grpcio>=1.58.0 in /Users/anavbo/Desktop/Personal/skin-cancer-detection-app/.venv/lib/python3.12/site-packages (from chromadb) (1.65.4)\n",
      "Requirement already satisfied: bcrypt>=4.0.1 in /Users/anavbo/Desktop/Personal/skin-cancer-detection-app/.venv/lib/python3.12/site-packages (from chromadb) (4.2.0)\n",
      "Requirement already satisfied: typer>=0.9.0 in /Users/anavbo/Desktop/Personal/skin-cancer-detection-app/.venv/lib/python3.12/site-packages (from chromadb) (0.12.3)\n",
      "Requirement already satisfied: kubernetes>=28.1.0 in /Users/anavbo/Desktop/Personal/skin-cancer-detection-app/.venv/lib/python3.12/site-packages (from chromadb) (30.1.0)\n",
      "Requirement already satisfied: tenacity>=8.2.3 in /Users/anavbo/Desktop/Personal/skin-cancer-detection-app/.venv/lib/python3.12/site-packages (from chromadb) (8.5.0)\n",
      "Requirement already satisfied: PyYAML>=6.0.0 in /Users/anavbo/Desktop/Personal/skin-cancer-detection-app/.venv/lib/python3.12/site-packages (from chromadb) (6.0.1)\n",
      "Requirement already satisfied: mmh3>=4.0.1 in /Users/anavbo/Desktop/Personal/skin-cancer-detection-app/.venv/lib/python3.12/site-packages (from chromadb) (4.1.0)\n",
      "Requirement already satisfied: orjson>=3.9.12 in /Users/anavbo/Desktop/Personal/skin-cancer-detection-app/.venv/lib/python3.12/site-packages (from chromadb) (3.10.6)\n",
      "Requirement already satisfied: httpx>=0.27.0 in /Users/anavbo/Desktop/Personal/skin-cancer-detection-app/.venv/lib/python3.12/site-packages (from chromadb) (0.27.0)\n",
      "Requirement already satisfied: packaging>=19.1 in /Users/anavbo/Desktop/Personal/skin-cancer-detection-app/.venv/lib/python3.12/site-packages (from build>=1.0.3->chromadb) (24.1)\n",
      "Requirement already satisfied: pyproject_hooks in /Users/anavbo/Desktop/Personal/skin-cancer-detection-app/.venv/lib/python3.12/site-packages (from build>=1.0.3->chromadb) (1.1.0)\n",
      "Requirement already satisfied: starlette<0.38.0,>=0.37.2 in /Users/anavbo/Desktop/Personal/skin-cancer-detection-app/.venv/lib/python3.12/site-packages (from fastapi>=0.95.2->chromadb) (0.37.2)\n",
      "Requirement already satisfied: anyio in /Users/anavbo/Desktop/Personal/skin-cancer-detection-app/.venv/lib/python3.12/site-packages (from httpx>=0.27.0->chromadb) (4.4.0)\n",
      "Requirement already satisfied: certifi in /Users/anavbo/Desktop/Personal/skin-cancer-detection-app/.venv/lib/python3.12/site-packages (from httpx>=0.27.0->chromadb) (2024.7.4)\n",
      "Requirement already satisfied: httpcore==1.* in /Users/anavbo/Desktop/Personal/skin-cancer-detection-app/.venv/lib/python3.12/site-packages (from httpx>=0.27.0->chromadb) (1.0.5)\n",
      "Requirement already satisfied: idna in /Users/anavbo/Desktop/Personal/skin-cancer-detection-app/.venv/lib/python3.12/site-packages (from httpx>=0.27.0->chromadb) (3.7)\n",
      "Requirement already satisfied: sniffio in /Users/anavbo/Desktop/Personal/skin-cancer-detection-app/.venv/lib/python3.12/site-packages (from httpx>=0.27.0->chromadb) (1.3.1)\n",
      "Requirement already satisfied: h11<0.15,>=0.13 in /Users/anavbo/Desktop/Personal/skin-cancer-detection-app/.venv/lib/python3.12/site-packages (from httpcore==1.*->httpx>=0.27.0->chromadb) (0.14.0)\n",
      "Requirement already satisfied: six>=1.9.0 in /Users/anavbo/Desktop/Personal/skin-cancer-detection-app/.venv/lib/python3.12/site-packages (from kubernetes>=28.1.0->chromadb) (1.16.0)\n",
      "Requirement already satisfied: python-dateutil>=2.5.3 in /Users/anavbo/Desktop/Personal/skin-cancer-detection-app/.venv/lib/python3.12/site-packages (from kubernetes>=28.1.0->chromadb) (2.9.0.post0)\n",
      "Requirement already satisfied: google-auth>=1.0.1 in /Users/anavbo/Desktop/Personal/skin-cancer-detection-app/.venv/lib/python3.12/site-packages (from kubernetes>=28.1.0->chromadb) (2.32.0)\n",
      "Requirement already satisfied: websocket-client!=0.40.0,!=0.41.*,!=0.42.*,>=0.32.0 in /Users/anavbo/Desktop/Personal/skin-cancer-detection-app/.venv/lib/python3.12/site-packages (from kubernetes>=28.1.0->chromadb) (1.8.0)\n",
      "Requirement already satisfied: requests in /Users/anavbo/Desktop/Personal/skin-cancer-detection-app/.venv/lib/python3.12/site-packages (from kubernetes>=28.1.0->chromadb) (2.32.3)\n",
      "Requirement already satisfied: requests-oauthlib in /Users/anavbo/Desktop/Personal/skin-cancer-detection-app/.venv/lib/python3.12/site-packages (from kubernetes>=28.1.0->chromadb) (2.0.0)\n",
      "Requirement already satisfied: oauthlib>=3.2.2 in /Users/anavbo/Desktop/Personal/skin-cancer-detection-app/.venv/lib/python3.12/site-packages (from kubernetes>=28.1.0->chromadb) (3.2.2)\n",
      "Requirement already satisfied: urllib3>=1.24.2 in /Users/anavbo/Desktop/Personal/skin-cancer-detection-app/.venv/lib/python3.12/site-packages (from kubernetes>=28.1.0->chromadb) (2.2.2)\n",
      "Requirement already satisfied: coloredlogs in /Users/anavbo/Desktop/Personal/skin-cancer-detection-app/.venv/lib/python3.12/site-packages (from onnxruntime>=1.14.1->chromadb) (15.0.1)\n",
      "Requirement already satisfied: flatbuffers in /Users/anavbo/Desktop/Personal/skin-cancer-detection-app/.venv/lib/python3.12/site-packages (from onnxruntime>=1.14.1->chromadb) (24.3.25)\n",
      "Requirement already satisfied: protobuf in /Users/anavbo/Desktop/Personal/skin-cancer-detection-app/.venv/lib/python3.12/site-packages (from onnxruntime>=1.14.1->chromadb) (4.25.4)\n",
      "Requirement already satisfied: sympy in /Users/anavbo/Desktop/Personal/skin-cancer-detection-app/.venv/lib/python3.12/site-packages (from onnxruntime>=1.14.1->chromadb) (1.13.1)\n",
      "Requirement already satisfied: deprecated>=1.2.6 in /Users/anavbo/Desktop/Personal/skin-cancer-detection-app/.venv/lib/python3.12/site-packages (from opentelemetry-api>=1.2.0->chromadb) (1.2.14)\n",
      "Requirement already satisfied: importlib-metadata<=8.0.0,>=6.0 in /Users/anavbo/Desktop/Personal/skin-cancer-detection-app/.venv/lib/python3.12/site-packages (from opentelemetry-api>=1.2.0->chromadb) (6.11.0)\n",
      "Requirement already satisfied: googleapis-common-protos~=1.52 in /Users/anavbo/Desktop/Personal/skin-cancer-detection-app/.venv/lib/python3.12/site-packages (from opentelemetry-exporter-otlp-proto-grpc>=1.2.0->chromadb) (1.63.2)\n",
      "Requirement already satisfied: opentelemetry-exporter-otlp-proto-common==1.26.0 in /Users/anavbo/Desktop/Personal/skin-cancer-detection-app/.venv/lib/python3.12/site-packages (from opentelemetry-exporter-otlp-proto-grpc>=1.2.0->chromadb) (1.26.0)\n",
      "Requirement already satisfied: opentelemetry-proto==1.26.0 in /Users/anavbo/Desktop/Personal/skin-cancer-detection-app/.venv/lib/python3.12/site-packages (from opentelemetry-exporter-otlp-proto-grpc>=1.2.0->chromadb) (1.26.0)\n",
      "Requirement already satisfied: opentelemetry-instrumentation-asgi==0.47b0 in /Users/anavbo/Desktop/Personal/skin-cancer-detection-app/.venv/lib/python3.12/site-packages (from opentelemetry-instrumentation-fastapi>=0.41b0->chromadb) (0.47b0)\n",
      "Requirement already satisfied: opentelemetry-instrumentation==0.47b0 in /Users/anavbo/Desktop/Personal/skin-cancer-detection-app/.venv/lib/python3.12/site-packages (from opentelemetry-instrumentation-fastapi>=0.41b0->chromadb) (0.47b0)\n",
      "Requirement already satisfied: opentelemetry-semantic-conventions==0.47b0 in /Users/anavbo/Desktop/Personal/skin-cancer-detection-app/.venv/lib/python3.12/site-packages (from opentelemetry-instrumentation-fastapi>=0.41b0->chromadb) (0.47b0)\n",
      "Requirement already satisfied: opentelemetry-util-http==0.47b0 in /Users/anavbo/Desktop/Personal/skin-cancer-detection-app/.venv/lib/python3.12/site-packages (from opentelemetry-instrumentation-fastapi>=0.41b0->chromadb) (0.47b0)\n",
      "Requirement already satisfied: setuptools>=16.0 in /Users/anavbo/Desktop/Personal/skin-cancer-detection-app/.venv/lib/python3.12/site-packages (from opentelemetry-instrumentation==0.47b0->opentelemetry-instrumentation-fastapi>=0.41b0->chromadb) (72.1.0)\n",
      "Requirement already satisfied: wrapt<2.0.0,>=1.0.0 in /Users/anavbo/Desktop/Personal/skin-cancer-detection-app/.venv/lib/python3.12/site-packages (from opentelemetry-instrumentation==0.47b0->opentelemetry-instrumentation-fastapi>=0.41b0->chromadb) (1.16.0)\n",
      "Requirement already satisfied: asgiref~=3.0 in /Users/anavbo/Desktop/Personal/skin-cancer-detection-app/.venv/lib/python3.12/site-packages (from opentelemetry-instrumentation-asgi==0.47b0->opentelemetry-instrumentation-fastapi>=0.41b0->chromadb) (3.8.1)\n",
      "Requirement already satisfied: monotonic>=1.5 in /Users/anavbo/Desktop/Personal/skin-cancer-detection-app/.venv/lib/python3.12/site-packages (from posthog>=2.4.0->chromadb) (1.6)\n",
      "Requirement already satisfied: backoff>=1.10.0 in /Users/anavbo/Desktop/Personal/skin-cancer-detection-app/.venv/lib/python3.12/site-packages (from posthog>=2.4.0->chromadb) (2.2.1)\n",
      "Requirement already satisfied: annotated-types>=0.4.0 in /Users/anavbo/Desktop/Personal/skin-cancer-detection-app/.venv/lib/python3.12/site-packages (from pydantic>=1.9->chromadb) (0.7.0)\n",
      "Requirement already satisfied: pydantic-core==2.20.1 in /Users/anavbo/Desktop/Personal/skin-cancer-detection-app/.venv/lib/python3.12/site-packages (from pydantic>=1.9->chromadb) (2.20.1)\n",
      "Requirement already satisfied: huggingface-hub<1.0,>=0.16.4 in /Users/anavbo/Desktop/Personal/skin-cancer-detection-app/.venv/lib/python3.12/site-packages (from tokenizers>=0.13.2->chromadb) (0.24.5)\n",
      "Requirement already satisfied: click>=8.0.0 in /Users/anavbo/Desktop/Personal/skin-cancer-detection-app/.venv/lib/python3.12/site-packages (from typer>=0.9.0->chromadb) (8.1.7)\n",
      "Requirement already satisfied: shellingham>=1.3.0 in /Users/anavbo/Desktop/Personal/skin-cancer-detection-app/.venv/lib/python3.12/site-packages (from typer>=0.9.0->chromadb) (1.5.4)\n",
      "Requirement already satisfied: rich>=10.11.0 in /Users/anavbo/Desktop/Personal/skin-cancer-detection-app/.venv/lib/python3.12/site-packages (from typer>=0.9.0->chromadb) (13.7.1)\n",
      "Requirement already satisfied: httptools>=0.5.0 in /Users/anavbo/Desktop/Personal/skin-cancer-detection-app/.venv/lib/python3.12/site-packages (from uvicorn[standard]>=0.18.3->chromadb) (0.6.1)\n",
      "Requirement already satisfied: python-dotenv>=0.13 in /Users/anavbo/Desktop/Personal/skin-cancer-detection-app/.venv/lib/python3.12/site-packages (from uvicorn[standard]>=0.18.3->chromadb) (1.0.1)\n",
      "Requirement already satisfied: uvloop!=0.15.0,!=0.15.1,>=0.14.0 in /Users/anavbo/Desktop/Personal/skin-cancer-detection-app/.venv/lib/python3.12/site-packages (from uvicorn[standard]>=0.18.3->chromadb) (0.19.0)\n",
      "Requirement already satisfied: watchfiles>=0.13 in /Users/anavbo/Desktop/Personal/skin-cancer-detection-app/.venv/lib/python3.12/site-packages (from uvicorn[standard]>=0.18.3->chromadb) (0.22.0)\n",
      "Requirement already satisfied: websockets>=10.4 in /Users/anavbo/Desktop/Personal/skin-cancer-detection-app/.venv/lib/python3.12/site-packages (from uvicorn[standard]>=0.18.3->chromadb) (12.0)\n",
      "Requirement already satisfied: cachetools<6.0,>=2.0.0 in /Users/anavbo/Desktop/Personal/skin-cancer-detection-app/.venv/lib/python3.12/site-packages (from google-auth>=1.0.1->kubernetes>=28.1.0->chromadb) (5.4.0)\n",
      "Requirement already satisfied: pyasn1-modules>=0.2.1 in /Users/anavbo/Desktop/Personal/skin-cancer-detection-app/.venv/lib/python3.12/site-packages (from google-auth>=1.0.1->kubernetes>=28.1.0->chromadb) (0.4.0)\n",
      "Requirement already satisfied: rsa<5,>=3.1.4 in /Users/anavbo/Desktop/Personal/skin-cancer-detection-app/.venv/lib/python3.12/site-packages (from google-auth>=1.0.1->kubernetes>=28.1.0->chromadb) (4.9)\n",
      "Requirement already satisfied: filelock in /Users/anavbo/Desktop/Personal/skin-cancer-detection-app/.venv/lib/python3.12/site-packages (from huggingface-hub<1.0,>=0.16.4->tokenizers>=0.13.2->chromadb) (3.15.4)\n",
      "Requirement already satisfied: fsspec>=2023.5.0 in /Users/anavbo/Desktop/Personal/skin-cancer-detection-app/.venv/lib/python3.12/site-packages (from huggingface-hub<1.0,>=0.16.4->tokenizers>=0.13.2->chromadb) (2024.6.1)\n",
      "Requirement already satisfied: zipp>=0.5 in /Users/anavbo/Desktop/Personal/skin-cancer-detection-app/.venv/lib/python3.12/site-packages (from importlib-metadata<=8.0.0,>=6.0->opentelemetry-api>=1.2.0->chromadb) (3.19.2)\n",
      "Requirement already satisfied: charset-normalizer<4,>=2 in /Users/anavbo/Desktop/Personal/skin-cancer-detection-app/.venv/lib/python3.12/site-packages (from requests->kubernetes>=28.1.0->chromadb) (3.3.2)\n",
      "Requirement already satisfied: markdown-it-py>=2.2.0 in /Users/anavbo/Desktop/Personal/skin-cancer-detection-app/.venv/lib/python3.12/site-packages (from rich>=10.11.0->typer>=0.9.0->chromadb) (3.0.0)\n",
      "Requirement already satisfied: pygments<3.0.0,>=2.13.0 in /Users/anavbo/Desktop/Personal/skin-cancer-detection-app/.venv/lib/python3.12/site-packages (from rich>=10.11.0->typer>=0.9.0->chromadb) (2.18.0)\n",
      "Requirement already satisfied: humanfriendly>=9.1 in /Users/anavbo/Desktop/Personal/skin-cancer-detection-app/.venv/lib/python3.12/site-packages (from coloredlogs->onnxruntime>=1.14.1->chromadb) (10.0)\n",
      "Requirement already satisfied: mpmath<1.4,>=1.1.0 in /Users/anavbo/Desktop/Personal/skin-cancer-detection-app/.venv/lib/python3.12/site-packages (from sympy->onnxruntime>=1.14.1->chromadb) (1.3.0)\n",
      "Requirement already satisfied: mdurl~=0.1 in /Users/anavbo/Desktop/Personal/skin-cancer-detection-app/.venv/lib/python3.12/site-packages (from markdown-it-py>=2.2.0->rich>=10.11.0->typer>=0.9.0->chromadb) (0.1.2)\n",
      "Requirement already satisfied: pyasn1<0.7.0,>=0.4.6 in /Users/anavbo/Desktop/Personal/skin-cancer-detection-app/.venv/lib/python3.12/site-packages (from pyasn1-modules>=0.2.1->google-auth>=1.0.1->kubernetes>=28.1.0->chromadb) (0.6.0)\n",
      "Note: you may need to restart the kernel to use updated packages.\n"
     ]
    },
    {
     "name": "stderr",
     "output_type": "stream",
     "text": [
      "Python(2057) MallocStackLogging: can't turn off malloc stack logging because it was not enabled.\n",
      "huggingface/tokenizers: The current process just got forked, after parallelism has already been used. Disabling parallelism to avoid deadlocks...\n",
      "To disable this warning, you can either:\n",
      "\t- Avoid using `tokenizers` before the fork if possible\n",
      "\t- Explicitly set the environment variable TOKENIZERS_PARALLELISM=(true | false)\n"
     ]
    },
    {
     "name": "stdout",
     "output_type": "stream",
     "text": [
      "Requirement already satisfied: pypdf in /Users/anavbo/Desktop/Personal/skin-cancer-detection-app/.venv/lib/python3.12/site-packages (4.3.1)\n",
      "Note: you may need to restart the kernel to use updated packages.\n"
     ]
    },
    {
     "name": "stderr",
     "output_type": "stream",
     "text": [
      "Python(2058) MallocStackLogging: can't turn off malloc stack logging because it was not enabled.\n",
      "huggingface/tokenizers: The current process just got forked, after parallelism has already been used. Disabling parallelism to avoid deadlocks...\n",
      "To disable this warning, you can either:\n",
      "\t- Avoid using `tokenizers` before the fork if possible\n",
      "\t- Explicitly set the environment variable TOKENIZERS_PARALLELISM=(true | false)\n"
     ]
    },
    {
     "name": "stdout",
     "output_type": "stream",
     "text": [
      "Collecting replicate\n",
      "  Downloading replicate-0.31.0-py3-none-any.whl.metadata (25 kB)\n",
      "Requirement already satisfied: httpx<1,>=0.21.0 in /Users/anavbo/Desktop/Personal/skin-cancer-detection-app/.venv/lib/python3.12/site-packages (from replicate) (0.27.0)\n",
      "Requirement already satisfied: packaging in /Users/anavbo/Desktop/Personal/skin-cancer-detection-app/.venv/lib/python3.12/site-packages (from replicate) (24.1)\n",
      "Requirement already satisfied: pydantic>1.10.7 in /Users/anavbo/Desktop/Personal/skin-cancer-detection-app/.venv/lib/python3.12/site-packages (from replicate) (2.8.2)\n",
      "Requirement already satisfied: typing-extensions>=4.5.0 in /Users/anavbo/Desktop/Personal/skin-cancer-detection-app/.venv/lib/python3.12/site-packages (from replicate) (4.12.2)\n",
      "Requirement already satisfied: anyio in /Users/anavbo/Desktop/Personal/skin-cancer-detection-app/.venv/lib/python3.12/site-packages (from httpx<1,>=0.21.0->replicate) (4.4.0)\n",
      "Requirement already satisfied: certifi in /Users/anavbo/Desktop/Personal/skin-cancer-detection-app/.venv/lib/python3.12/site-packages (from httpx<1,>=0.21.0->replicate) (2024.7.4)\n",
      "Requirement already satisfied: httpcore==1.* in /Users/anavbo/Desktop/Personal/skin-cancer-detection-app/.venv/lib/python3.12/site-packages (from httpx<1,>=0.21.0->replicate) (1.0.5)\n",
      "Requirement already satisfied: idna in /Users/anavbo/Desktop/Personal/skin-cancer-detection-app/.venv/lib/python3.12/site-packages (from httpx<1,>=0.21.0->replicate) (3.7)\n",
      "Requirement already satisfied: sniffio in /Users/anavbo/Desktop/Personal/skin-cancer-detection-app/.venv/lib/python3.12/site-packages (from httpx<1,>=0.21.0->replicate) (1.3.1)\n",
      "Requirement already satisfied: h11<0.15,>=0.13 in /Users/anavbo/Desktop/Personal/skin-cancer-detection-app/.venv/lib/python3.12/site-packages (from httpcore==1.*->httpx<1,>=0.21.0->replicate) (0.14.0)\n",
      "Requirement already satisfied: annotated-types>=0.4.0 in /Users/anavbo/Desktop/Personal/skin-cancer-detection-app/.venv/lib/python3.12/site-packages (from pydantic>1.10.7->replicate) (0.7.0)\n",
      "Requirement already satisfied: pydantic-core==2.20.1 in /Users/anavbo/Desktop/Personal/skin-cancer-detection-app/.venv/lib/python3.12/site-packages (from pydantic>1.10.7->replicate) (2.20.1)\n",
      "Downloading replicate-0.31.0-py3-none-any.whl (42 kB)\n",
      "Installing collected packages: replicate\n",
      "Successfully installed replicate-0.31.0\n",
      "Note: you may need to restart the kernel to use updated packages.\n"
     ]
    }
   ],
   "source": [
    "%pip install semantic-router==0.0.37\n",
    "%pip install chromadb\n",
    "%pip install pypdf\n",
    "%pip install replicate"
   ]
  },
  {
   "cell_type": "code",
   "execution_count": 2,
   "metadata": {},
   "outputs": [],
   "source": [
    "import os\n",
    "os.environ[\"COHERE_API_KEY\"] = \"kUYLefL4SNo36iNh5tF2H1gGi5XfZyTbOBJNknt1\""
   ]
  },
  {
   "cell_type": "code",
   "execution_count": 4,
   "metadata": {},
   "outputs": [],
   "source": [
    "import chromadb\n",
    "import os\n",
    "client = chromadb.PersistentClient(\n",
    "    path=\"/Users/anavbo/Desktop/Personal/skin-cancer-detection-app/RAG/chromadb\",\n",
    ")\n",
    "collection = client.get_or_create_collection(name=\"skin-cancer\")"
   ]
  },
  {
   "cell_type": "markdown",
   "metadata": {},
   "source": [
    "# Fix Chroma to Cohere Encoder"
   ]
  },
  {
   "cell_type": "code",
   "execution_count": 5,
   "metadata": {},
   "outputs": [],
   "source": [
    "import chromadb.utils.embedding_functions as embedding_functions\n",
    "chroma_encode = embedding_functions.CohereEmbeddingFunction(\n",
    "    api_key=os.environ[\"COHERE_API_KEY\"], model_name=\"embed-english-v3.0\"\n",
    ")"
   ]
  },
  {
   "cell_type": "code",
   "execution_count": 6,
   "metadata": {},
   "outputs": [],
   "source": [
    "# semantic chunking\n",
    "from semantic_router.splitters import RollingWindowSplitter\n",
    "from semantic_router.utils.logger import logger\n",
    "from semantic_router.encoders import CohereEncoder\n",
    "\n",
    "logger.setLevel(\"WARNING\")\n",
    "encoder = CohereEncoder()\n",
    "splitter = RollingWindowSplitter(\n",
    "    encoder=encoder,\n",
    "    min_split_tokens=50,\n",
    "    max_split_tokens=400,\n",
    "    window_size=2,\n",
    "    enable_statistics=False,\n",
    ")"
   ]
  },
  {
   "cell_type": "code",
   "execution_count": 7,
   "metadata": {},
   "outputs": [],
   "source": [
    "from pypdf import PdfReader\n",
    "import os\n",
    "import uuid\n",
    "path=\"/Users/anavbo/Desktop/Personal/skin-cancer-detection-app/RAG/documents\"\n",
    "pdf_paths = os.listdir(path)\n",
    "\n",
    "chunks = []\n",
    "metadatas = []\n",
    "ids = []\n",
    "for doc_path in pdf_paths:\n",
    "    documents = PdfReader(f\"{path}/{doc_path}\")\n",
    "    document = \"\"\n",
    "    for doc in documents.pages:\n",
    "        document += doc.extract_text() + \"\\n\"\n",
    "\n",
    "    splits = splitter([document])\n",
    "    for i in range(len(splits)):\n",
    "        chunk = \" \".join(splits[i].docs)\n",
    "        try:\n",
    "            pre_chunk = \" \".join(splits[i - 1].docs)\n",
    "        except:\n",
    "            pre_chunk = \"\"\n",
    "        try:\n",
    "            post_chunk = \" \".join(splits[i + 1].docs)\n",
    "        except:\n",
    "            post_chunk = \"\"\n",
    "        \n",
    "        metadata = {\n",
    "            \"source\": doc_path,\n",
    "            \"pre_chunk\": pre_chunk,\n",
    "            \"chunk\": chunk,\n",
    "            \"post_chunk\": post_chunk\n",
    "        }\n",
    "        chunks.append(chunk)\n",
    "        metadatas.append(metadata)\n",
    "        ids.append(str(uuid.uuid4().hex))"
   ]
  },
  {
   "cell_type": "code",
   "execution_count": 12,
   "metadata": {},
   "outputs": [
    {
     "data": {
      "text/plain": [
       "'a66975655a1a4a9898b93e5904806ace'"
      ]
     },
     "execution_count": 12,
     "metadata": {},
     "output_type": "execute_result"
    }
   ],
   "source": [
    "ids[0]"
   ]
  },
  {
   "cell_type": "code",
   "execution_count": 13,
   "metadata": {},
   "outputs": [
    {
     "name": "stderr",
     "output_type": "stream",
     "text": [
      "Add of existing embedding ID: a66975655a1a4a9898b93e5904806ace\n",
      "Insert of existing embedding ID: a66975655a1a4a9898b93e5904806ace\n"
     ]
    }
   ],
   "source": [
    "collection.add(\n",
    "    documents = chunks,\n",
    "    ids = ids,\n",
    "    metadatas = metadatas,\n",
    ")"
   ]
  },
  {
   "cell_type": "code",
   "execution_count": 17,
   "metadata": {},
   "outputs": [
    {
     "data": {
      "text/plain": [
       "['According to this generally accepted model, eventually all intraepidermal proliferation of melanocytes ceases, and the nevus becomes entirely intradermal (dermal nevus). Nevus cells residing within the dermis have reduced proliferative and me tabolic activity, except for the formation of mel - anosomes. With the decline of replication, the nevus cell population is gradually replaced by mesenchymal elements, including fibrous matrix, glycosaminoglycans, and adipose tissue. Most dermal nevi are believed to undergo progressive involution, some eventuating as acrochordons, and others shedding. This is reflected in the course of the disease, as with advancing age, there is a progressive decrease in the number of nevi; thus, whereas the number of nevi in young adults varies from approximately 15 to 40, this decreases markedly over the age of 50 years.21 Clinical features Melanocytic nevi are well circumscribed, round to ovoid lesions, with regular and well defined borders. Although most are diagnosed clinically, a new classification system for nevi was proposed in 2007, based on dermoscopic features.22,23 The categories included in this are globular (congenital), reticular (acquired), starburst (Spitz/Reed), blue  (homogeneous), and site-related nevi, and those with special features, such as halo, eczematous, combined,24 and recurrent nevi.22 A clini - cal and histological tabulation ( Tables 1 and 2) is provided for the CAMN; although, in expert hands, dermoscopy may be equally effective in accurate diagnosis. The junctional nevus is a macular lesion with slight accentuation of skin markings ( Figure  2). The dermoscopic',\n",
       " 'theques. According to this model, nevus cells are considered a morphological variant of melanocytes that have assumed a morphology that is more epithelioid and less dendritic. With evolution of the lesions, it is held that cells “drop off ” (Abtropfung of Unna) into the dermis. The Abtropfung',\n",
       " 'Powered by TCPDF (www.tcpdf.org) Clinical, Cosmetic and Investigational Dermatology 2014:7submit your manuscript | www.dovepress.co m Dove press Dove press 93Acquired melanocytic nevi Figure 4 The three stages of melanocytic nevi, with loss of pigment and eventual resolution of lesion which mirrors the “Abtropfung” theory. Figure 5 Compound  nevi with “hair” emanating from the lesions, such lesions tend to recur after removal. Figure 6 Recurrent nevus seen 6 months after surgical excision.preparations, it has been suggested that all cells in melano - cytic nevi (epidermal and dermal) should be referred to as melanocytes.28 Melanocytic nevi contain intraepidermal or dermal collections of nevus cells or both. The cells within the junc - tional nests have round, ovoid, or fusiform shapes and are arranged in cohesive nests.4 With the no table exception of the unusual amelanotic variants, these cells contain melanin.4 In the superficial dermis, the cells have an epithelioid cell topography and contain amphophilic cytoplasm with granular melanin. The nuclei have uniform chromatin with a slightly clumped texture. Deeper in the dermis, there is a diminished content of cytoplasm, and the cells resemble lymphocytes',\n",
       " 'A seborrheic keratosis grows gradually. Signs and symptoms might include: A round or oval-shaped waxy or rough bump, typically on the face, chest, a shoulder or the back A ﬂat growth or a slightly raised bump with a scaly surface, with a characteristic \"pasted on\" look Varied size, from very small to more than 1 inch (2.5 centimeters) across Varied number, ranging from a single growth to multiple growths Very small growths clustered around the eyes or elsewhere on the face, sometimes called ﬂesh moles or dermatosis papulosa nigra, common on Black or brown skin Varied in color, ranging from light tan to brown or black',\n",
       " 'Color Homogeneous brown, dark brownHomogeneous brown, dark brownLight brown to flesh tones Powered by TCPDF (www.tcpdf.org) Clinical, Cosmetic and Investigational Dermatology 2014:7submit your manuscript | www.dovepress.co m Dove press Dove press 92Sardana et al Figure 2 Macular junctional melanocytic nevi showing increased skin markings. Figure 3 Raised pigmented papular lesion pathognomic of a compound melanocytic nevi.Table 2 Histopathologic features of common acquired melanocytic nevi Junctional nevus Compound nevus Dermal nevus']"
      ]
     },
     "execution_count": 17,
     "metadata": {},
     "output_type": "execute_result"
    }
   ],
   "source": [
    "import chromadb\n",
    "\n",
    "client = chromadb.PersistentClient(\n",
    "    path=\"/Users/anavbo/Desktop/Personal/skin-cancer-detection-app/RAG/chromadb\"\n",
    ")\n",
    "collection = client.get_collection(\"skin-cancer\")\n",
    "\n"
   ]
  },
  {
   "cell_type": "code",
   "execution_count": 26,
   "metadata": {},
   "outputs": [
    {
     "name": "stdout",
     "output_type": "stream",
     "text": [
      " Actinic keratosis (AK) is a precancerous condition that affects the skin. It is caused by prolonged exposure to the sun or other forms of ultraviolet (UV) radiation, and it can develop into squamous cell carcinoma, a type of skin cancer, if left untreated.\n",
      "\n",
      "Actinic keratosis typically appears as a rough, scaly, or crusty bump on the skin, and it can be tan, pink, red, or the same color as the surrounding skin. It can appear anywhere on the body, but it is most common on sun-exposed areas such as the face, ears, neck, hands, and arms.\n",
      "\n",
      "The signs and symptoms of actinic keratosis can vary, but they may include:\n",
      "\n",
      "* A round or oval-shaped bump that is rough or waxy to the touch\n",
      "* A flat growth or a slightly raised bump with a scaly surface\n",
      "* A varied size, ranging from very small to over 1 inch (2.5 centimeters) across\n",
      "* A varied number, ranging from a single growth to multiple growths\n",
      "* Very small growths clustered around the eyes or elsewhere on the face, sometimes called \"flesh moles\" or \"dermatosis papulosa nigra,\" which are common on Black or brown skin\n",
      "* A varied color, ranging from light tan to brown or black\n",
      "\n",
      "Actinic keratosis grows gradually, and it can take years to develop. It is important to seek medical attention if you notice any new or changing spots on your skin, as early detection and treatment can help prevent the development of skin cancer.\n"
     ]
    }
   ],
   "source": [
    "import replicate\n",
    "\n",
    "# Get query from user\n",
    "query = \"What is actinic kerosis\"\n",
    "\n",
    "\n",
    "# Initialize collection for db requests\n",
    "client = chromadb.PersistentClient(\n",
    "    path=\"/Users/anavbo/Desktop/Personal/skin-cancer-detection-app/RAG/chromadb\"\n",
    ")\n",
    "collection = client.get_collection(\"skin-cancer\")\n",
    "\n",
    "# Initialize the LLM\n",
    "api = replicate.Client(api_token=\"r8_XJns3nBIXao9KgeqbdqSvgCTP8JDf1u18BiTx\")"
   ]
  },
  {
   "cell_type": "code",
   "execution_count": 29,
   "metadata": {},
   "outputs": [
    {
     "ename": "ReplicateError",
     "evalue": "ReplicateError Details:\ntitle: Free time limit reached\nstatus: 402\ndetail: You have reached the free time limit. To continue using Replicate, set up billing at https://replicate.com/account/billing#billing.",
     "output_type": "error",
     "traceback": [
      "\u001b[0;31m---------------------------------------------------------------------------\u001b[0m",
      "\u001b[0;31mReplicateError\u001b[0m                            Traceback (most recent call last)",
      "Cell \u001b[0;32mIn[29], line 9\u001b[0m\n\u001b[1;32m      7\u001b[0m \u001b[38;5;66;03m# Prompt the LLM\u001b[39;00m\n\u001b[1;32m      8\u001b[0m system_prompt \u001b[38;5;241m=\u001b[39m \u001b[38;5;124m\"\u001b[39m\u001b[38;5;124mUse the following context to craft the best answer: \u001b[39m\u001b[38;5;124m\"\u001b[39m \u001b[38;5;241m+\u001b[39m context\n\u001b[0;32m----> 9\u001b[0m output \u001b[38;5;241m=\u001b[39m \u001b[43mapi\u001b[49m\u001b[38;5;241;43m.\u001b[39;49m\u001b[43mrun\u001b[49m\u001b[43m(\u001b[49m\n\u001b[1;32m     10\u001b[0m \u001b[43m    \u001b[49m\u001b[38;5;124;43m\"\u001b[39;49m\u001b[38;5;124;43mmeta/llama-2-70b-chat\u001b[39;49m\u001b[38;5;124;43m\"\u001b[39;49m\u001b[43m,\u001b[49m\n\u001b[1;32m     11\u001b[0m \u001b[43m    \u001b[49m\u001b[38;5;28;43minput\u001b[39;49m\u001b[38;5;241;43m=\u001b[39;49m\u001b[43m{\u001b[49m\n\u001b[1;32m     12\u001b[0m \u001b[43m        \u001b[49m\u001b[38;5;124;43m\"\u001b[39;49m\u001b[38;5;124;43mtop_k\u001b[39;49m\u001b[38;5;124;43m\"\u001b[39;49m\u001b[43m:\u001b[49m\u001b[43m \u001b[49m\u001b[38;5;241;43m0\u001b[39;49m\u001b[43m,\u001b[49m\n\u001b[1;32m     13\u001b[0m \u001b[43m        \u001b[49m\u001b[38;5;124;43m\"\u001b[39;49m\u001b[38;5;124;43mtop_p\u001b[39;49m\u001b[38;5;124;43m\"\u001b[39;49m\u001b[43m:\u001b[49m\u001b[43m \u001b[49m\u001b[38;5;241;43m1\u001b[39;49m\u001b[43m,\u001b[49m\n\u001b[1;32m     14\u001b[0m \u001b[43m        \u001b[49m\u001b[38;5;124;43m\"\u001b[39;49m\u001b[38;5;124;43mprompt\u001b[39;49m\u001b[38;5;124;43m\"\u001b[39;49m\u001b[43m:\u001b[49m\u001b[43m \u001b[49m\u001b[43mquery\u001b[49m\u001b[43m,\u001b[49m\n\u001b[1;32m     15\u001b[0m \u001b[43m        \u001b[49m\u001b[38;5;124;43m\"\u001b[39;49m\u001b[38;5;124;43mmax_tokens\u001b[39;49m\u001b[38;5;124;43m\"\u001b[39;49m\u001b[43m:\u001b[49m\u001b[43m \u001b[49m\u001b[38;5;241;43m512\u001b[39;49m\u001b[43m,\u001b[49m\n\u001b[1;32m     16\u001b[0m \u001b[43m        \u001b[49m\u001b[38;5;124;43m\"\u001b[39;49m\u001b[38;5;124;43mtemperature\u001b[39;49m\u001b[38;5;124;43m\"\u001b[39;49m\u001b[43m:\u001b[49m\u001b[43m \u001b[49m\u001b[38;5;241;43m0.5\u001b[39;49m\u001b[43m,\u001b[49m\n\u001b[1;32m     17\u001b[0m \u001b[43m        \u001b[49m\u001b[38;5;124;43m\"\u001b[39;49m\u001b[38;5;124;43msystem_prompt\u001b[39;49m\u001b[38;5;124;43m\"\u001b[39;49m\u001b[43m:\u001b[49m\u001b[43m \u001b[49m\u001b[43msystem_prompt\u001b[49m\u001b[43m,\u001b[49m\n\u001b[1;32m     18\u001b[0m \u001b[43m        \u001b[49m\u001b[38;5;124;43m\"\u001b[39;49m\u001b[38;5;124;43mlength_penalty\u001b[39;49m\u001b[38;5;124;43m\"\u001b[39;49m\u001b[43m:\u001b[49m\u001b[43m \u001b[49m\u001b[38;5;241;43m1\u001b[39;49m\u001b[43m,\u001b[49m\n\u001b[1;32m     19\u001b[0m \u001b[43m        \u001b[49m\u001b[38;5;124;43m\"\u001b[39;49m\u001b[38;5;124;43mmax_new_tokens\u001b[39;49m\u001b[38;5;124;43m\"\u001b[39;49m\u001b[43m:\u001b[49m\u001b[43m \u001b[49m\u001b[38;5;241;43m500\u001b[39;49m\u001b[43m,\u001b[49m\n\u001b[1;32m     20\u001b[0m \u001b[43m        \u001b[49m\u001b[38;5;124;43m\"\u001b[39;49m\u001b[38;5;124;43mmin_new_tokens\u001b[39;49m\u001b[38;5;124;43m\"\u001b[39;49m\u001b[43m:\u001b[49m\u001b[43m \u001b[49m\u001b[38;5;241;43m-\u001b[39;49m\u001b[38;5;241;43m1\u001b[39;49m\u001b[43m,\u001b[49m\n\u001b[1;32m     21\u001b[0m \u001b[43m        \u001b[49m\u001b[38;5;124;43m\"\u001b[39;49m\u001b[38;5;124;43mprompt_template\u001b[39;49m\u001b[38;5;124;43m\"\u001b[39;49m\u001b[43m:\u001b[49m\u001b[43m \u001b[49m\u001b[38;5;124;43m\"\u001b[39;49m\u001b[38;5;124;43m<s>[INST] <<SYS>>\u001b[39;49m\u001b[38;5;130;43;01m\\n\u001b[39;49;00m\u001b[38;5;132;43;01m{system_prompt}\u001b[39;49;00m\u001b[38;5;130;43;01m\\n\u001b[39;49;00m\u001b[38;5;124;43m<</SYS>>\u001b[39;49m\u001b[38;5;130;43;01m\\n\u001b[39;49;00m\u001b[38;5;130;43;01m\\n\u001b[39;49;00m\u001b[38;5;132;43;01m{prompt}\u001b[39;49;00m\u001b[38;5;124;43m [/INST]\u001b[39;49m\u001b[38;5;124;43m\"\u001b[39;49m\u001b[43m,\u001b[49m\n\u001b[1;32m     22\u001b[0m \u001b[43m        \u001b[49m\u001b[38;5;124;43m\"\u001b[39;49m\u001b[38;5;124;43mpresence_penalty\u001b[39;49m\u001b[38;5;124;43m\"\u001b[39;49m\u001b[43m:\u001b[49m\u001b[43m \u001b[49m\u001b[38;5;241;43m0\u001b[39;49m\u001b[43m,\u001b[49m\n\u001b[1;32m     23\u001b[0m \u001b[43m        \u001b[49m\u001b[38;5;124;43m\"\u001b[39;49m\u001b[38;5;124;43mlog_performance_metrics\u001b[39;49m\u001b[38;5;124;43m\"\u001b[39;49m\u001b[43m:\u001b[49m\u001b[43m \u001b[49m\u001b[38;5;28;43;01mFalse\u001b[39;49;00m\n\u001b[1;32m     24\u001b[0m \u001b[43m    \u001b[49m\u001b[43m}\u001b[49m\n\u001b[1;32m     25\u001b[0m \u001b[43m)\u001b[49m\n\u001b[1;32m     26\u001b[0m \u001b[38;5;28mprint\u001b[39m(\u001b[38;5;124m\"\u001b[39m\u001b[38;5;124m\"\u001b[39m\u001b[38;5;241m.\u001b[39mjoin(output))\n",
      "File \u001b[0;32m~/Desktop/Personal/skin-cancer-detection-app/.venv/lib/python3.12/site-packages/replicate/client.py:165\u001b[0m, in \u001b[0;36mClient.run\u001b[0;34m(self, ref, input, **params)\u001b[0m\n\u001b[1;32m    155\u001b[0m \u001b[38;5;28;01mdef\u001b[39;00m \u001b[38;5;21mrun\u001b[39m(\n\u001b[1;32m    156\u001b[0m     \u001b[38;5;28mself\u001b[39m,\n\u001b[1;32m    157\u001b[0m     ref: \u001b[38;5;28mstr\u001b[39m,\n\u001b[1;32m    158\u001b[0m     \u001b[38;5;28minput\u001b[39m: Optional[Dict[\u001b[38;5;28mstr\u001b[39m, Any]] \u001b[38;5;241m=\u001b[39m \u001b[38;5;28;01mNone\u001b[39;00m,\n\u001b[1;32m    159\u001b[0m     \u001b[38;5;241m*\u001b[39m\u001b[38;5;241m*\u001b[39mparams: Unpack[\u001b[38;5;124m\"\u001b[39m\u001b[38;5;124mPredictions.CreatePredictionParams\u001b[39m\u001b[38;5;124m\"\u001b[39m],\n\u001b[1;32m    160\u001b[0m ) \u001b[38;5;241m-\u001b[39m\u001b[38;5;241m>\u001b[39m Union[Any, Iterator[Any]]:  \u001b[38;5;66;03m# noqa: ANN401\u001b[39;00m\n\u001b[1;32m    161\u001b[0m \u001b[38;5;250m    \u001b[39m\u001b[38;5;124;03m\"\"\"\u001b[39;00m\n\u001b[1;32m    162\u001b[0m \u001b[38;5;124;03m    Run a model and wait for its output.\u001b[39;00m\n\u001b[1;32m    163\u001b[0m \u001b[38;5;124;03m    \"\"\"\u001b[39;00m\n\u001b[0;32m--> 165\u001b[0m     \u001b[38;5;28;01mreturn\u001b[39;00m \u001b[43mrun\u001b[49m\u001b[43m(\u001b[49m\u001b[38;5;28;43mself\u001b[39;49m\u001b[43m,\u001b[49m\u001b[43m \u001b[49m\u001b[43mref\u001b[49m\u001b[43m,\u001b[49m\u001b[43m \u001b[49m\u001b[38;5;28;43minput\u001b[39;49m\u001b[43m,\u001b[49m\u001b[43m \u001b[49m\u001b[38;5;241;43m*\u001b[39;49m\u001b[38;5;241;43m*\u001b[39;49m\u001b[43mparams\u001b[49m\u001b[43m)\u001b[49m\n",
      "File \u001b[0;32m~/Desktop/Personal/skin-cancer-detection-app/.venv/lib/python3.12/site-packages/replicate/run.py:44\u001b[0m, in \u001b[0;36mrun\u001b[0;34m(client, ref, input, **params)\u001b[0m\n\u001b[1;32m     40\u001b[0m     prediction \u001b[38;5;241m=\u001b[39m client\u001b[38;5;241m.\u001b[39mpredictions\u001b[38;5;241m.\u001b[39mcreate(\n\u001b[1;32m     41\u001b[0m         version\u001b[38;5;241m=\u001b[39mversion_id, \u001b[38;5;28minput\u001b[39m\u001b[38;5;241m=\u001b[39m\u001b[38;5;28minput\u001b[39m \u001b[38;5;129;01mor\u001b[39;00m {}, \u001b[38;5;241m*\u001b[39m\u001b[38;5;241m*\u001b[39mparams\n\u001b[1;32m     42\u001b[0m     )\n\u001b[1;32m     43\u001b[0m \u001b[38;5;28;01melif\u001b[39;00m owner \u001b[38;5;129;01mand\u001b[39;00m name:\n\u001b[0;32m---> 44\u001b[0m     prediction \u001b[38;5;241m=\u001b[39m \u001b[43mclient\u001b[49m\u001b[38;5;241;43m.\u001b[39;49m\u001b[43mmodels\u001b[49m\u001b[38;5;241;43m.\u001b[39;49m\u001b[43mpredictions\u001b[49m\u001b[38;5;241;43m.\u001b[39;49m\u001b[43mcreate\u001b[49m\u001b[43m(\u001b[49m\n\u001b[1;32m     45\u001b[0m \u001b[43m        \u001b[49m\u001b[43mmodel\u001b[49m\u001b[38;5;241;43m=\u001b[39;49m\u001b[43m(\u001b[49m\u001b[43mowner\u001b[49m\u001b[43m,\u001b[49m\u001b[43m \u001b[49m\u001b[43mname\u001b[49m\u001b[43m)\u001b[49m\u001b[43m,\u001b[49m\u001b[43m \u001b[49m\u001b[38;5;28;43minput\u001b[39;49m\u001b[38;5;241;43m=\u001b[39;49m\u001b[38;5;28;43minput\u001b[39;49m\u001b[43m \u001b[49m\u001b[38;5;129;43;01mor\u001b[39;49;00m\u001b[43m \u001b[49m\u001b[43m{\u001b[49m\u001b[43m}\u001b[49m\u001b[43m,\u001b[49m\u001b[43m \u001b[49m\u001b[38;5;241;43m*\u001b[39;49m\u001b[38;5;241;43m*\u001b[39;49m\u001b[43mparams\u001b[49m\n\u001b[1;32m     46\u001b[0m \u001b[43m    \u001b[49m\u001b[43m)\u001b[49m\n\u001b[1;32m     47\u001b[0m \u001b[38;5;28;01melse\u001b[39;00m:\n\u001b[1;32m     48\u001b[0m     \u001b[38;5;28;01mraise\u001b[39;00m \u001b[38;5;167;01mValueError\u001b[39;00m(\n\u001b[1;32m     49\u001b[0m         \u001b[38;5;124mf\u001b[39m\u001b[38;5;124m\"\u001b[39m\u001b[38;5;124mInvalid argument: \u001b[39m\u001b[38;5;132;01m{\u001b[39;00mref\u001b[38;5;132;01m}\u001b[39;00m\u001b[38;5;124m. Expected model, version, or reference in the format owner/name or owner/name:version\u001b[39m\u001b[38;5;124m\"\u001b[39m\n\u001b[1;32m     50\u001b[0m     )\n",
      "File \u001b[0;32m~/Desktop/Personal/skin-cancer-detection-app/.venv/lib/python3.12/site-packages/replicate/model.py:396\u001b[0m, in \u001b[0;36mModelsPredictions.create\u001b[0;34m(self, model, input, **params)\u001b[0m\n\u001b[1;32m    393\u001b[0m url \u001b[38;5;241m=\u001b[39m _create_prediction_url_from_model(model)\n\u001b[1;32m    394\u001b[0m body \u001b[38;5;241m=\u001b[39m _create_prediction_body(version\u001b[38;5;241m=\u001b[39m\u001b[38;5;28;01mNone\u001b[39;00m, \u001b[38;5;28minput\u001b[39m\u001b[38;5;241m=\u001b[39m\u001b[38;5;28minput\u001b[39m, \u001b[38;5;241m*\u001b[39m\u001b[38;5;241m*\u001b[39mparams)\n\u001b[0;32m--> 396\u001b[0m resp \u001b[38;5;241m=\u001b[39m \u001b[38;5;28;43mself\u001b[39;49m\u001b[38;5;241;43m.\u001b[39;49m\u001b[43m_client\u001b[49m\u001b[38;5;241;43m.\u001b[39;49m\u001b[43m_request\u001b[49m\u001b[43m(\u001b[49m\n\u001b[1;32m    397\u001b[0m \u001b[43m    \u001b[49m\u001b[38;5;124;43m\"\u001b[39;49m\u001b[38;5;124;43mPOST\u001b[39;49m\u001b[38;5;124;43m\"\u001b[39;49m\u001b[43m,\u001b[49m\n\u001b[1;32m    398\u001b[0m \u001b[43m    \u001b[49m\u001b[43murl\u001b[49m\u001b[43m,\u001b[49m\n\u001b[1;32m    399\u001b[0m \u001b[43m    \u001b[49m\u001b[43mjson\u001b[49m\u001b[38;5;241;43m=\u001b[39;49m\u001b[43mbody\u001b[49m\u001b[43m,\u001b[49m\n\u001b[1;32m    400\u001b[0m \u001b[43m\u001b[49m\u001b[43m)\u001b[49m\n\u001b[1;32m    402\u001b[0m \u001b[38;5;28;01mreturn\u001b[39;00m _json_to_prediction(\u001b[38;5;28mself\u001b[39m\u001b[38;5;241m.\u001b[39m_client, resp\u001b[38;5;241m.\u001b[39mjson())\n",
      "File \u001b[0;32m~/Desktop/Personal/skin-cancer-detection-app/.venv/lib/python3.12/site-packages/replicate/client.py:88\u001b[0m, in \u001b[0;36mClient._request\u001b[0;34m(self, method, path, **kwargs)\u001b[0m\n\u001b[1;32m     86\u001b[0m \u001b[38;5;28;01mdef\u001b[39;00m \u001b[38;5;21m_request\u001b[39m(\u001b[38;5;28mself\u001b[39m, method: \u001b[38;5;28mstr\u001b[39m, path: \u001b[38;5;28mstr\u001b[39m, \u001b[38;5;241m*\u001b[39m\u001b[38;5;241m*\u001b[39mkwargs) \u001b[38;5;241m-\u001b[39m\u001b[38;5;241m>\u001b[39m httpx\u001b[38;5;241m.\u001b[39mResponse:\n\u001b[1;32m     87\u001b[0m     resp \u001b[38;5;241m=\u001b[39m \u001b[38;5;28mself\u001b[39m\u001b[38;5;241m.\u001b[39m_client\u001b[38;5;241m.\u001b[39mrequest(method, path, \u001b[38;5;241m*\u001b[39m\u001b[38;5;241m*\u001b[39mkwargs)\n\u001b[0;32m---> 88\u001b[0m     \u001b[43m_raise_for_status\u001b[49m\u001b[43m(\u001b[49m\u001b[43mresp\u001b[49m\u001b[43m)\u001b[49m\n\u001b[1;32m     90\u001b[0m     \u001b[38;5;28;01mreturn\u001b[39;00m resp\n",
      "File \u001b[0;32m~/Desktop/Personal/skin-cancer-detection-app/.venv/lib/python3.12/site-packages/replicate/client.py:375\u001b[0m, in \u001b[0;36m_raise_for_status\u001b[0;34m(resp)\u001b[0m\n\u001b[1;32m    373\u001b[0m \u001b[38;5;28;01mdef\u001b[39;00m \u001b[38;5;21m_raise_for_status\u001b[39m(resp: httpx\u001b[38;5;241m.\u001b[39mResponse) \u001b[38;5;241m-\u001b[39m\u001b[38;5;241m>\u001b[39m \u001b[38;5;28;01mNone\u001b[39;00m:\n\u001b[1;32m    374\u001b[0m     \u001b[38;5;28;01mif\u001b[39;00m \u001b[38;5;241m400\u001b[39m \u001b[38;5;241m<\u001b[39m\u001b[38;5;241m=\u001b[39m resp\u001b[38;5;241m.\u001b[39mstatus_code \u001b[38;5;241m<\u001b[39m \u001b[38;5;241m600\u001b[39m:\n\u001b[0;32m--> 375\u001b[0m         \u001b[38;5;28;01mraise\u001b[39;00m ReplicateError\u001b[38;5;241m.\u001b[39mfrom_response(resp)\n",
      "\u001b[0;31mReplicateError\u001b[0m: ReplicateError Details:\ntitle: Free time limit reached\nstatus: 402\ndetail: You have reached the free time limit. To continue using Replicate, set up billing at https://replicate.com/account/billing#billing."
     ]
    }
   ],
   "source": [
    "# Query the collection and form the context\n",
    "context = \"\"\n",
    "retrieval = collection.query(query_texts=\"actinic kerosis\", n_results=3)\n",
    "for i in range(len(retrieval[\"documents\"][0])):\n",
    "    context += f\"Document {i}: {retrieval[\"documents\"][0][i]}\\n\"\n",
    "\n",
    "# Prompt the LLM\n",
    "system_prompt = \"Use the following context to craft the best answer: \" + context\n",
    "output = api.run(\n",
    "    \"meta/llama-2-70b-chat\",\n",
    "    input={\n",
    "        \"top_k\": 0,\n",
    "        \"top_p\": 1,\n",
    "        \"prompt\": query,\n",
    "        \"max_tokens\": 512,\n",
    "        \"temperature\": 0.5,\n",
    "        \"system_prompt\": system_prompt,\n",
    "        \"length_penalty\": 1,\n",
    "        \"max_new_tokens\": 500,\n",
    "        \"min_new_tokens\": -1,\n",
    "        \"prompt_template\": \"<s>[INST] <<SYS>>\\n{system_prompt}\\n<</SYS>>\\n\\n{prompt} [/INST]\",\n",
    "        \"presence_penalty\": 0,\n",
    "        \"log_performance_metrics\": False\n",
    "    }\n",
    ")\n",
    "print(\"\".join(output))"
   ]
  },
  {
   "cell_type": "code",
   "execution_count": null,
   "metadata": {},
   "outputs": [],
   "source": []
  }
 ],
 "metadata": {
  "kernelspec": {
   "display_name": ".venv",
   "language": "python",
   "name": "python3"
  },
  "language_info": {
   "codemirror_mode": {
    "name": "ipython",
    "version": 3
   },
   "file_extension": ".py",
   "mimetype": "text/x-python",
   "name": "python",
   "nbconvert_exporter": "python",
   "pygments_lexer": "ipython3",
   "version": "3.12.4"
  }
 },
 "nbformat": 4,
 "nbformat_minor": 2
}
